{
 "cells": [
  {
   "cell_type": "markdown",
   "metadata": {},
   "source": [
    "<center>\n",
    "    <img src=\"https://cf-courses-data.s3.us.cloud-object-storage.appdomain.cloud/IBMDeveloperSkillsNetwork-DS0105EN-SkillsNetwork/labs/Module2/images/SN_web_lightmode.png\" width=\"300\" alt=\"cognitiveclass.ai logo\">\n",
    "</center>\n"
   ]
  },
  {
   "cell_type": "markdown",
   "metadata": {},
   "source": [
    "# Data Science Tools and Ecosystem"
   ]
  },
  {
   "cell_type": "markdown",
   "metadata": {},
   "source": [
    "**Objectives**:\n",
    "\n",
    "1. List popular languages for Data Science.\n",
    "2. Explore commonly used libraries in Data Science.\n",
    "3. Discuss essential tools and resources for Data Scientists.\n",
    "4. Introduce development environment open-source tools.\n",
    "5. Demonstrate evaluation of arithmetic expressions in Python.\n",
    "6. Convert minutes to hours using Python code."
   ]
  },
  {
   "cell_type": "markdown",
   "metadata": {},
   "source": [
    "Welcome to this notebook where we will delve into the exciting world of data science tools and ecosystem. Here, we will explore a variety of tools, libraries, and frameworks that form the backbone of modern data science workflows.\n",
    "\n",
    "From data manipulation and visualization to machine learning and deep learning, we will cover essential tools and resources that empower data scientists and analysts to extract insights and make informed decisions from complex datasets.\n",
    "\n",
    "Whether you are new to data science or looking to expand your toolkit, this notebook aims to provide a comprehensive overview of the tools and ecosystem that are essential for success in the field of data science. So let's dive in and explore the rich landscape of data science tools together!"
   ]
  },
  {
   "cell_type": "markdown",
   "metadata": {},
   "source": [
    "Some of the popular languages that Data Scientists use are:\n",
    "\n",
    "1. Python language\n",
    "2. R language\n",
    "3. Julia language\n",
    "4. SQL language"
   ]
  },
  {
   "cell_type": "markdown",
   "metadata": {},
   "source": [
    "Some of the commonly used libraries used by Data Scientists include:\n",
    "\n",
    "1. Numpy\n",
    "2. Pandas\n",
    "3. Matplotlib\n",
    "4. Scikit-learn\n",
    "5. TensorFlow"
   ]
  },
  {
   "cell_type": "markdown",
   "metadata": {},
   "source": [
    "| Data Science Tools |\n",
    "| ----------------- |\n",
    "| Jupyter Notebook  |\n",
    "| RStudio           |\n",
    "| PyCharm           |"
   ]
  },
  {
   "cell_type": "markdown",
   "metadata": {},
   "source": [
    "Arithmetic expressions are fundamental in programming and allow us to perform mathematical calculations. Python provides powerful operators and functions for working with arithmetic expressions, enabling us to manipulate numbers and perform various mathematical operations.\n",
    "\n",
    "Let's explore some examples of evaluating arithmetic expressions in Python, including addition, subtraction, multiplication, division, and more. These examples will showcase how Python handles arithmetic operations and demonstrate the flexibility and ease of performing calculations in the language.\n",
    "\n",
    "So let's dive in and explore these arithmetic expression examples to deepen our understanding of Python's capabilities in mathematical computations."
   ]
  },
  {
   "cell_type": "markdown",
   "metadata": {},
   "source": [
    "### Below are a few examples of evaluating arithmetic expressions in Python."
   ]
  },
  {
   "cell_type": "code",
   "execution_count": 2,
   "metadata": {
    "tags": []
   },
   "outputs": [
    {
     "data": {
      "text/plain": [
       "17"
      ]
     },
     "execution_count": 2,
     "metadata": {},
     "output_type": "execute_result"
    }
   ],
   "source": [
    "# This is a simple arithmetic expression to multiply then add integers.\n",
    "result = (3 * 4) + 5\n",
    "result"
   ]
  },
  {
   "cell_type": "code",
   "execution_count": 3,
   "metadata": {
    "tags": []
   },
   "outputs": [
    {
     "data": {
      "text/plain": [
       "3.3333333333333335"
      ]
     },
     "execution_count": 3,
     "metadata": {},
     "output_type": "execute_result"
    }
   ],
   "source": [
    "# This will convert 200 minutes to hours by dividing by 60.\n",
    "minutes = 200\n",
    "hours = minutes / 60\n",
    "hours"
   ]
  },
  {
   "cell_type": "markdown",
   "metadata": {},
   "source": [
    "## Author's name\n",
    "Nikhil singh"
   ]
  }
 ],
 "metadata": {
  "kernelspec": {
   "display_name": "Python",
   "language": "python",
   "name": "conda-env-python-py"
  },
  "language_info": {
   "codemirror_mode": {
    "name": "ipython",
    "version": 3
   },
   "file_extension": ".py",
   "mimetype": "text/x-python",
   "name": "python",
   "nbconvert_exporter": "python",
   "pygments_lexer": "ipython3",
   "version": "3.7.12"
  }
 },
 "nbformat": 4,
 "nbformat_minor": 4
}
